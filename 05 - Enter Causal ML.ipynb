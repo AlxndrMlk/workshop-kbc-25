{
 "cells": [
  {
   "cell_type": "code",
   "execution_count": null,
   "metadata": {
    "colab": {
     "base_uri": "https://localhost:8080/"
    },
    "id": "Oxd1AZT2EVgN",
    "outputId": "c41a1388-852e-4dd8-88ab-12096ed03da1"
   },
   "outputs": [],
   "source": [
    "!pip install dowhy==0.12 econml==0.15 networkx==3.3"
   ]
  },
  {
   "cell_type": "markdown",
   "metadata": {
    "id": "TO9Nd3tWWkih"
   },
   "source": [
    "‼️Before running the next cell, press **Ctrl (Cmd) + M + .** and confirm that you want to restsrt the session.\n",
    "\n",
    "Thank you 🙏🏼"
   ]
  },
  {
   "cell_type": "code",
   "execution_count": null,
   "metadata": {
    "colab": {
     "base_uri": "https://localhost:8080/"
    },
    "id": "5WDCFvmLEZ7D",
    "outputId": "e8c14473-3f56-4a17-e361-805885bf63d4"
   },
   "outputs": [],
   "source": [
    "import dowhy\n",
    "import econml\n",
    "print(dowhy.__version__, econml.__version__)"
   ]
  },
  {
   "cell_type": "code",
   "execution_count": null,
   "metadata": {
    "id": "HgLcLnut5Ljo"
   },
   "outputs": [],
   "source": [
    "import warnings\n",
    "from copy import deepcopy\n",
    "\n",
    "import numpy as np\n",
    "import pandas as pd\n",
    "from scipy import stats\n",
    "\n",
    "from sklearn.metrics import mean_absolute_percentage_error\n",
    "\n",
    "import dowhy\n",
    "from dowhy import CausalModel\n",
    "\n",
    "from econml.metalearners import SLearner, XLearner, TLearner\n",
    "from econml.dml import LinearDML, CausalForestDML, DML\n",
    "from econml.dr import DRLearner, SparseLinearDRLearner\n",
    "\n",
    "from sklearn.linear_model import LinearRegression, LogisticRegression, LassoCV\n",
    "from sklearn.ensemble import RandomForestRegressor, GradientBoostingRegressor\n",
    "from sklearn.model_selection import GridSearchCV, train_test_split\n",
    "\n",
    "from lightgbm import LGBMRegressor, LGBMClassifier\n",
    "\n",
    "import networkx as nx\n",
    "\n",
    "from tqdm import tqdm\n",
    "\n",
    "import matplotlib.pyplot as plt\n",
    "plt.style.use('fivethirtyeight')\n",
    "\n",
    "import graphviz\n",
    "\n",
    "warnings.simplefilter(\n",
    "    action='ignore',\n",
    "    category=FutureWarning\n",
    ")"
   ]
  },
  {
   "cell_type": "code",
   "execution_count": null,
   "metadata": {
    "id": "lXbvS1m2YUy-"
   },
   "outputs": [],
   "source": [
    "COLORS = [\n",
    "    '#00B0F0',\n",
    "    '#FF0000',\n",
    "    '#B0F000'\n",
    "]"
   ]
  },
  {
   "cell_type": "code",
   "execution_count": null,
   "metadata": {
    "id": "-b-nff3NYbA4"
   },
   "outputs": [],
   "source": [
    "def plot_effect(effect_true, effect_pred, figsize=(6, 4), ylim=(5000, 22000)):\n",
    "    plt.figure(figsize=figsize)\n",
    "    plt.scatter(effect_true, effect_pred, color=COLORS[0])\n",
    "    plt.plot(np.sort(effect_true), np.sort(effect_true), color=COLORS[1], alpha=.7, label='Perfect model')\n",
    "    plt.xlabel('$True\\ effect$', fontsize=14, alpha=.5)\n",
    "    plt.ylabel('$Predicted\\ effect$', fontsize=14, alpha=.5)\n",
    "    plt.ylim(ylim[0], ylim[1])\n",
    "    plt.legend()\n",
    "    plt.show()"
   ]
  },
  {
   "cell_type": "markdown",
   "metadata": {
    "id": "cXhrtTQ_5OuR"
   },
   "source": [
    "# First Steps in Causal ML\n",
    "\n"
   ]
  },
  {
   "cell_type": "code",
   "execution_count": null,
   "metadata": {
    "id": "XnVD-msLYmOG"
   },
   "outputs": [],
   "source": [
    "# Get the data\n",
    "\n",
    "# Train set\n",
    "earnings_interaction_train = pd.read_csv(r'https://raw.githubusercontent.com/PacktPublishing/Causal-Inference-and-Discovery-in-Python/refs/heads/main/data/ml_earnings_interaction_train.csv')\n",
    "\n",
    "# Test set\n",
    "earnings_interaction_test = pd.read_csv(r'https://raw.githubusercontent.com/PacktPublishing/Causal-Inference-and-Discovery-in-Python/refs/heads/main/data/ml_earnings_interaction_test.csv')"
   ]
  },
  {
   "cell_type": "code",
   "execution_count": null,
   "metadata": {
    "colab": {
     "base_uri": "https://localhost:8080/",
     "height": 37
    },
    "id": "DY5yfewMZKfL",
    "outputId": "431521e2-4eec-494e-bcbe-3c37f7e61bad"
   },
   "outputs": [],
   "source": [
    "# Check shapes\n",
    "earnings_interaction_train.shape, earnings_interaction_test.shape"
   ]
  },
  {
   "cell_type": "code",
   "execution_count": null,
   "metadata": {
    "colab": {
     "base_uri": "https://localhost:8080/",
     "height": 206
    },
    "id": "_ixpdhsuZVwU",
    "outputId": "2a3b4252-a938-4b88-f9f4-09811aa44780"
   },
   "outputs": [],
   "source": [
    "# Examine the data\n",
    "\n",
    "# Train\n",
    "earnings_interaction_train.head()"
   ]
  },
  {
   "cell_type": "code",
   "execution_count": null,
   "metadata": {
    "colab": {
     "base_uri": "https://localhost:8080/",
     "height": 206
    },
    "id": "Rs02_Hr9Zdc5",
    "outputId": "a853058e-cb22-4a98-b225-9b517e6209a9"
   },
   "outputs": [],
   "source": [
    "# Test\n",
    "earnings_interaction_test.head()"
   ]
  },
  {
   "cell_type": "markdown",
   "metadata": {
    "id": "LM6hUWm8ZmrB"
   },
   "source": [
    "## Step 1: Define the Graph"
   ]
  },
  {
   "cell_type": "code",
   "execution_count": null,
   "metadata": {
    "id": "lQ7K9SYXZfU3"
   },
   "outputs": [],
   "source": [
    "# Construct the graph\n",
    "graph = nx.DiGraph()\n",
    "\n",
    "# Define the edges\n",
    "edges = [\n",
    "    ('took_a_course', 'earnings'),\n",
    "    ('age', 'took_a_course'),\n",
    "    ('age', 'earnings'),\n",
    "    ('python_proficiency', 'earnings')\n",
    "]\n",
    "\n",
    "# Add edges\n",
    "graph.add_edges_from(edges)"
   ]
  },
  {
   "cell_type": "code",
   "execution_count": null,
   "metadata": {
    "colab": {
     "base_uri": "https://localhost:8080/",
     "height": 361
    },
    "id": "flb7xi92Z1Qj",
    "outputId": "ac67e82a-dedd-4e11-9da3-ac2349cdcc34"
   },
   "outputs": [],
   "source": [
    "# Instantiate the CausalModel object\n",
    "model = CausalModel(\n",
    "    data=earnings_interaction_train,\n",
    "    treatment='took_a_course',\n",
    "    outcome='earnings',\n",
    "    effect_modifiers='python_proficiency',\n",
    "    graph=graph\n",
    ")\n",
    "\n",
    "# View the model\n",
    "model.view_model(size=(4,4))"
   ]
  },
  {
   "cell_type": "markdown",
   "metadata": {
    "id": "ElxXCO8taKs2"
   },
   "source": [
    "## Step 2: Identify the Estimand"
   ]
  },
  {
   "cell_type": "code",
   "execution_count": null,
   "metadata": {
    "colab": {
     "base_uri": "https://localhost:8080/"
    },
    "id": "GJ-lOdd1aCoI",
    "outputId": "720ebda8-51cf-4f58-c69e-ef9ae7cf7b25"
   },
   "outputs": [],
   "source": [
    "# Get the estimand\n",
    "estimand = model.identify_effect()\n",
    "print(estimand)"
   ]
  },
  {
   "cell_type": "markdown",
   "metadata": {
    "id": "idtcHbOQaS1_"
   },
   "source": [
    "## Step 3: Estimate the Effect"
   ]
  },
  {
   "cell_type": "markdown",
   "metadata": {
    "id": "qMyogKwgacnJ"
   },
   "source": [
    "### S-Learner"
   ]
  },
  {
   "cell_type": "code",
   "execution_count": null,
   "metadata": {
    "colab": {
     "base_uri": "https://localhost:8080/"
    },
    "id": "YCa_zEIOaOrD",
    "outputId": "1cade89c-4013-4ac1-fef1-95df88a3d79d"
   },
   "outputs": [],
   "source": [
    "# Get estimate (S-Learner)\n",
    "estimate = model.estimate_effect(\n",
    "    identified_estimand=estimand,\n",
    "    method_name='backdoor.econml.metalearners.SLearner',\n",
    "    target_units='ate',\n",
    "    method_params={\n",
    "        'init_params': {\n",
    "            'overall_model': LGBMRegressor(n_estimators=500, max_depth=10)\n",
    "        },\n",
    "        'fit_params': {}\n",
    "    })"
   ]
  },
  {
   "cell_type": "code",
   "execution_count": null,
   "metadata": {
    "colab": {
     "base_uri": "https://localhost:8080/",
     "height": 37
    },
    "id": "VMwKwK0naXly",
    "outputId": "931b12ef-7d80-4fc7-fa8d-52288fbbe7ca"
   },
   "outputs": [],
   "source": [
    "estimate.cate_estimates.mean()"
   ]
  },
  {
   "cell_type": "code",
   "execution_count": null,
   "metadata": {
    "id": "wYJyJkRna5m9"
   },
   "outputs": [],
   "source": [
    "# Compute predictions\n",
    "effect_pred = model.estimate_effect(\n",
    "    identified_estimand=estimand,\n",
    "    method_name='backdoor.econml.metalearners.SLearner',\n",
    "    fit_estimator=False,\n",
    "    target_units=earnings_interaction_test.drop(['true_effect', 'took_a_course'], axis=1)\n",
    ").cate_estimates"
   ]
  },
  {
   "cell_type": "code",
   "execution_count": null,
   "metadata": {
    "id": "8KRFnYk0aveU"
   },
   "outputs": [],
   "source": [
    "# Get the true effect\n",
    "effect_true = earnings_interaction_test['true_effect'].values"
   ]
  },
  {
   "cell_type": "code",
   "execution_count": null,
   "metadata": {
    "colab": {
     "base_uri": "https://localhost:8080/",
     "height": 409
    },
    "id": "_qZBX1hKf7Uu",
    "outputId": "cb1bd4b0-0824-49ab-b56c-337d0336364b"
   },
   "outputs": [],
   "source": [
    "plot_effect(\n",
    "    effect_true=effect_true,\n",
    "    effect_pred=effect_pred,\n",
    ")"
   ]
  },
  {
   "cell_type": "markdown",
   "metadata": {
    "id": "CKm0bSq1amf6"
   },
   "source": [
    "### T-Learner"
   ]
  },
  {
   "cell_type": "code",
   "execution_count": null,
   "metadata": {
    "colab": {
     "base_uri": "https://localhost:8080/"
    },
    "id": "qEoThnnYaiZ4",
    "outputId": "a8319f6c-6754-4f9d-acee-d7a64e390b3d"
   },
   "outputs": [],
   "source": [
    "# Get estimate (S-Learner)\n",
    "estimate = model.estimate_effect(\n",
    "    identified_estimand=estimand,\n",
    "    method_name='backdoor.econml.metalearners.TLearner',\n",
    "    target_units='ate',\n",
    "    method_params={\n",
    "        'init_params': {\n",
    "            'models': [\n",
    "                LGBMRegressor(n_estimators=200, max_depth=10),\n",
    "                LGBMRegressor(n_estimators=200, max_depth=10)\n",
    "            ]\n",
    "        },\n",
    "        'fit_params': {}\n",
    "    })"
   ]
  },
  {
   "cell_type": "code",
   "execution_count": null,
   "metadata": {
    "colab": {
     "base_uri": "https://localhost:8080/",
     "height": 37
    },
    "id": "bXQ0MpfAgTru",
    "outputId": "c00cc842-6d31-4bda-ef68-a12bb9478e3d"
   },
   "outputs": [],
   "source": [
    "estimate.cate_estimates.mean()"
   ]
  },
  {
   "cell_type": "code",
   "execution_count": null,
   "metadata": {
    "id": "OzyuBFMsgWxk"
   },
   "outputs": [],
   "source": [
    "# Compute predictions\n",
    "effect_pred = model.estimate_effect(\n",
    "    identified_estimand=estimand,\n",
    "    method_name='backdoor.econml.metalearners.TLearner',\n",
    "    fit_estimator=False,\n",
    "    target_units=earnings_interaction_test.drop(['true_effect', 'took_a_course'], axis=1)\n",
    ").cate_estimates"
   ]
  },
  {
   "cell_type": "code",
   "execution_count": null,
   "metadata": {
    "id": "ENV7mKSKgoE0"
   },
   "outputs": [],
   "source": [
    "# Get the true effect\n",
    "effect_true = earnings_interaction_test['true_effect'].values"
   ]
  },
  {
   "cell_type": "code",
   "execution_count": null,
   "metadata": {
    "colab": {
     "base_uri": "https://localhost:8080/",
     "height": 409
    },
    "id": "6Ek5jzzEgscZ",
    "outputId": "ec67fb64-4935-40cd-87ca-42b7f9b3ceb8"
   },
   "outputs": [],
   "source": [
    "plot_effect(\n",
    "    effect_true=effect_true,\n",
    "    effect_pred=effect_pred,\n",
    ")"
   ]
  },
  {
   "cell_type": "markdown",
   "metadata": {
    "id": "X1XsWoEcg1Ig"
   },
   "source": [
    "### X-Learner"
   ]
  },
  {
   "cell_type": "code",
   "execution_count": null,
   "metadata": {
    "colab": {
     "base_uri": "https://localhost:8080/"
    },
    "id": "c0ak2Y6ogu29",
    "outputId": "a3c771ce-9ce9-4a52-a71a-3e2ef8e8af13"
   },
   "outputs": [],
   "source": [
    "# Get estimate (X-Learner)\n",
    "estimate = model.estimate_effect(\n",
    "    identified_estimand=estimand,\n",
    "    method_name='backdoor.econml.metalearners.XLearner',\n",
    "    target_units='ate',\n",
    "    method_params={\n",
    "        'init_params': {\n",
    "            'models': LGBMRegressor(n_estimators=50, max_depth=10)\n",
    "        },\n",
    "        'fit_params': {}\n",
    "    })"
   ]
  },
  {
   "cell_type": "code",
   "execution_count": null,
   "metadata": {
    "colab": {
     "base_uri": "https://localhost:8080/",
     "height": 37
    },
    "id": "x2-nqOGKE-RF",
    "outputId": "4970dbd0-e70a-4f70-f810-beaa717d3de1"
   },
   "outputs": [],
   "source": [
    "estimate.cate_estimates.mean()"
   ]
  },
  {
   "cell_type": "code",
   "execution_count": null,
   "metadata": {
    "id": "e97aVsWUhKQr"
   },
   "outputs": [],
   "source": [
    "# Compute predictions\n",
    "effect_pred = model.estimate_effect(\n",
    "    identified_estimand=estimand,\n",
    "    method_name='backdoor.econml.metalearners.XLearner',\n",
    "    fit_estimator=False,\n",
    "    target_units=earnings_interaction_test.drop(['true_effect', 'took_a_course'], axis=1)\n",
    ").cate_estimates"
   ]
  },
  {
   "cell_type": "code",
   "execution_count": null,
   "metadata": {
    "colab": {
     "base_uri": "https://localhost:8080/",
     "height": 409
    },
    "id": "nzHa_5rvhPLY",
    "outputId": "0617b957-a757-411a-d24d-e12bd0e84c5c"
   },
   "outputs": [],
   "source": [
    "plot_effect(\n",
    "    effect_true=effect_true,\n",
    "    effect_pred=effect_pred,\n",
    ")"
   ]
  },
  {
   "cell_type": "markdown",
   "metadata": {
    "id": "djR875I7kmPY"
   },
   "source": [
    "### Doubly Robust Learner (DR-Learner)"
   ]
  },
  {
   "cell_type": "code",
   "execution_count": null,
   "metadata": {
    "colab": {
     "base_uri": "https://localhost:8080/"
    },
    "id": "6DjLIJD5hSjM",
    "outputId": "acd06a71-9b64-4a72-eee7-d8919693615e"
   },
   "outputs": [],
   "source": [
    "# Get estimate (Doubly robust)\n",
    "estimate = model.estimate_effect(\n",
    "    identified_estimand=estimand,\n",
    "    method_name='backdoor.econml.dr.LinearDRLearner',\n",
    "    target_units='ate',\n",
    "    method_params={\n",
    "        'init_params': {\n",
    "            'model_propensity': LogisticRegression(),\n",
    "            'model_regression': LGBMRegressor(n_estimators=1000, max_depth=10)\n",
    "        },\n",
    "        'fit_params': {}\n",
    "    })"
   ]
  },
  {
   "cell_type": "code",
   "execution_count": null,
   "metadata": {
    "colab": {
     "base_uri": "https://localhost:8080/",
     "height": 37
    },
    "id": "7FHPSgLmCoN7",
    "outputId": "a1e9ca2a-71f6-4bc9-a3dd-34d5e257a5fc"
   },
   "outputs": [],
   "source": [
    "estimate.cate_estimates.mean()"
   ]
  },
  {
   "cell_type": "code",
   "execution_count": null,
   "metadata": {
    "id": "b4-d0fR0CoN7"
   },
   "outputs": [],
   "source": [
    "# Compute predictions\n",
    "effect_pred = model.estimate_effect(\n",
    "    identified_estimand=estimand,\n",
    "    method_name='backdoor.econml.dr.LinearDRLearner',\n",
    "    fit_estimator=False,\n",
    "    target_units=earnings_interaction_test.drop(['true_effect', 'took_a_course'], axis=1)\n",
    ").cate_estimates"
   ]
  },
  {
   "cell_type": "code",
   "execution_count": null,
   "metadata": {
    "colab": {
     "base_uri": "https://localhost:8080/",
     "height": 409
    },
    "id": "Ho9Q3OaGCoN7",
    "outputId": "be3df458-d766-44e9-ee00-3bc116bb07a7"
   },
   "outputs": [],
   "source": [
    "plot_effect(\n",
    "    effect_true=effect_true,\n",
    "    effect_pred=effect_pred,\n",
    ")"
   ]
  },
  {
   "cell_type": "markdown",
   "metadata": {
    "id": "yUaeIM2ZCoN8"
   },
   "source": [
    "### Non-linear DR"
   ]
  },
  {
   "cell_type": "code",
   "execution_count": null,
   "metadata": {
    "colab": {
     "base_uri": "https://localhost:8080/"
    },
    "id": "hbRiRg4CCoN8",
    "outputId": "74bfc732-dc32-4b1b-90f7-a79b2e115cc2"
   },
   "outputs": [],
   "source": [
    "# Get estimate (Doubly robust non-linear)\n",
    "estimate = model.estimate_effect(\n",
    "    identified_estimand=estimand,\n",
    "    method_name='backdoor.econml.dr.DRLearner',\n",
    "    target_units='ate',\n",
    "    method_params={\n",
    "        'init_params': {\n",
    "            'model_propensity': LogisticRegression(),\n",
    "            'model_regression': LGBMRegressor(n_estimators=1000, max_depth=10),\n",
    "            'model_final': LGBMRegressor(n_estimators=500, max_depth=10),\n",
    "        },\n",
    "        'fit_params': {}\n",
    "    })"
   ]
  },
  {
   "cell_type": "code",
   "execution_count": null,
   "metadata": {
    "colab": {
     "base_uri": "https://localhost:8080/",
     "height": 37
    },
    "id": "aY80KByOCoN8",
    "outputId": "15af14ed-8e21-4a5f-bcb4-4b90413f906d"
   },
   "outputs": [],
   "source": [
    "estimate.cate_estimates.mean()"
   ]
  },
  {
   "cell_type": "code",
   "execution_count": null,
   "metadata": {
    "id": "E_H1cr23CoN8"
   },
   "outputs": [],
   "source": [
    "# Compute predictions\n",
    "effect_pred = model.estimate_effect(\n",
    "    identified_estimand=estimand,\n",
    "    method_name='backdoor.econml.dr.LinearDRLearner',\n",
    "    fit_estimator=False,\n",
    "    target_units=earnings_interaction_test.drop(['true_effect', 'took_a_course'], axis=1)\n",
    ").cate_estimates"
   ]
  },
  {
   "cell_type": "code",
   "execution_count": null,
   "metadata": {
    "colab": {
     "base_uri": "https://localhost:8080/",
     "height": 409
    },
    "id": "x9uyEQ2gFg8e",
    "outputId": "4a397681-8275-403a-83fd-f988d69f9c80"
   },
   "outputs": [],
   "source": [
    "plot_effect(\n",
    "    effect_true=effect_true,\n",
    "    effect_pred=effect_pred,\n",
    ")"
   ]
  },
  {
   "cell_type": "markdown",
   "metadata": {
    "id": "Q2Og9q7NCoN9"
   },
   "source": [
    "### DML (Double Machine Learning)"
   ]
  },
  {
   "cell_type": "code",
   "execution_count": null,
   "metadata": {
    "colab": {
     "base_uri": "https://localhost:8080/"
    },
    "id": "AW688Q7rCoN9",
    "outputId": "7083544e-26cd-4abf-99f9-f2c6195a9ef8"
   },
   "outputs": [],
   "source": [
    "# Get estimate (DML)\n",
    "estimate = model.estimate_effect(\n",
    "    identified_estimand=estimand,\n",
    "    method_name='backdoor.econml.dml.LinearDML',\n",
    "    target_units='ate',\n",
    "    method_params={\n",
    "        'init_params': {\n",
    "            'model_y': LGBMRegressor(n_estimators=500, max_depth=10),\n",
    "            'model_t': LogisticRegression(),\n",
    "            'discrete_treatment': True\n",
    "        },\n",
    "        'fit_params': {}\n",
    "    })"
   ]
  },
  {
   "cell_type": "code",
   "execution_count": null,
   "metadata": {
    "colab": {
     "base_uri": "https://localhost:8080/",
     "height": 37
    },
    "id": "B3q-9HFRCoN9",
    "outputId": "cb6b176a-a462-4766-e1ab-561aee9b20ad"
   },
   "outputs": [],
   "source": [
    "estimate.cate_estimates.mean()"
   ]
  },
  {
   "cell_type": "code",
   "execution_count": null,
   "metadata": {
    "id": "2OBtjed3CoN9"
   },
   "outputs": [],
   "source": [
    "# Compute predictions\n",
    "effect_pred = model.estimate_effect(\n",
    "    identified_estimand=estimand,\n",
    "    method_name='backdoor.econml.dml.LinearDML',\n",
    "    fit_estimator=False,\n",
    "    target_units=earnings_interaction_test.drop(['true_effect', 'took_a_course'], axis=1)\n",
    ").cate_estimates"
   ]
  },
  {
   "cell_type": "code",
   "execution_count": null,
   "metadata": {
    "colab": {
     "base_uri": "https://localhost:8080/",
     "height": 409
    },
    "id": "tqPTMYoqCoN-",
    "outputId": "47221ecb-313f-40a8-c281-a05647ea310c"
   },
   "outputs": [],
   "source": [
    "plot_effect(\n",
    "    effect_true=effect_true,\n",
    "    effect_pred=effect_pred,\n",
    ")"
   ]
  },
  {
   "cell_type": "markdown",
   "metadata": {
    "id": "N61uwNLXCoN-"
   },
   "source": [
    "### DML with Cross-Validation"
   ]
  },
  {
   "cell_type": "code",
   "execution_count": null,
   "metadata": {
    "id": "r4jTR6ydCoN-"
   },
   "outputs": [],
   "source": [
    "# Define wrapped CV models\n",
    "model_y = GridSearchCV(\n",
    "    estimator=LGBMRegressor(),\n",
    "    param_grid={\n",
    "        'max_depth': [3, 10, 20, 100],\n",
    "        'n_estimators': [10, 50, 100]\n",
    "    }, cv=10, n_jobs=-1, scoring='neg_mean_squared_error'\n",
    ")\n",
    "\n",
    "model_t = GridSearchCV(\n",
    "    estimator=LGBMClassifier(),\n",
    "    param_grid={\n",
    "        'max_depth': [3, 10, 20, 100],\n",
    "        'n_estimators': [10, 50, 100]\n",
    "    }, cv=10, n_jobs=-1, scoring='accuracy'\n",
    ")"
   ]
  },
  {
   "cell_type": "code",
   "execution_count": null,
   "metadata": {
    "colab": {
     "base_uri": "https://localhost:8080/"
    },
    "id": "_ldVEHCcCoN-",
    "outputId": "15e80219-a9c2-4f27-c550-6322a60f5d74"
   },
   "outputs": [],
   "source": [
    "# Estimate the effect\n",
    "estimate = model.estimate_effect(\n",
    "    identified_estimand=estimand,\n",
    "    method_name='backdoor.econml.dml.LinearDML',\n",
    "    target_units='ate',\n",
    "    method_params={\n",
    "        'init_params': {\n",
    "            'model_y': model_y,\n",
    "            'model_t': model_t,\n",
    "            'discrete_treatment': True,\n",
    "            'cv': 4\n",
    "        },\n",
    "        'fit_params': {\n",
    "        }\n",
    "    })"
   ]
  },
  {
   "cell_type": "code",
   "execution_count": null,
   "metadata": {
    "colab": {
     "base_uri": "https://localhost:8080/",
     "height": 37
    },
    "id": "_oOJMgyiCoN-",
    "outputId": "b3927706-7f04-4f5a-905d-ae97a0063f90"
   },
   "outputs": [],
   "source": [
    "estimate.cate_estimates.mean()"
   ]
  },
  {
   "cell_type": "code",
   "execution_count": null,
   "metadata": {
    "id": "cXygfQubCoN_"
   },
   "outputs": [],
   "source": [
    "# Compute predictions\n",
    "effect_pred = model.estimate_effect(\n",
    "    identified_estimand=estimand,\n",
    "    method_name='backdoor.econml.dml.LinearDML',\n",
    "    fit_estimator=False,\n",
    "    target_units=earnings_interaction_test.drop(['true_effect', 'took_a_course'], axis=1)\n",
    ").cate_estimates"
   ]
  },
  {
   "cell_type": "code",
   "execution_count": null,
   "metadata": {
    "colab": {
     "base_uri": "https://localhost:8080/",
     "height": 409
    },
    "id": "VZnYftXoCoN_",
    "outputId": "d082decd-7f47-4753-8526-3811130eca19"
   },
   "outputs": [],
   "source": [
    "plot_effect(\n",
    "    effect_true=effect_true,\n",
    "    effect_pred=effect_pred,\n",
    ")"
   ]
  },
  {
   "cell_type": "markdown",
   "metadata": {
    "id": "6msKk3DtF-BT"
   },
   "source": [
    "## Using Meta-Learners Directly"
   ]
  },
  {
   "cell_type": "markdown",
   "metadata": {
    "id": "h03Kra_fKIm7"
   },
   "source": [
    "### Read and clean the data"
   ]
  },
  {
   "cell_type": "code",
   "execution_count": null,
   "metadata": {
    "id": "S9yg6YUIF7aw"
   },
   "outputs": [],
   "source": [
    "# Get the data\n",
    "hillstrom_clean = pd.read_csv('https://raw.githubusercontent.com/PacktPublishing/Causal-Inference-and-Discovery-in-Python/refs/heads/main/data/hillstrom_clean.csv')\n",
    "\n",
    "# Define label mappings\n",
    "labels_mapping = {\"control\": 0, \"womans_email\": 1, \"mens_email\": 2}\n",
    "\n",
    "\n",
    "# Drop redundant cols to avoid multicollinearity\n",
    "hillstrom_clean = hillstrom_clean.drop(['zip_code__urban', 'channel__web'], axis=1)\n",
    "\n",
    "# Split data\n",
    "hillstrom_X = hillstrom_clean.drop(['visit', 'conversion', 'spend', 'treatment'], axis=1)\n",
    "hillstrom_Y = hillstrom_clean['spend']\n",
    "hillstrom_T = hillstrom_clean['treatment']\n"
   ]
  },
  {
   "cell_type": "code",
   "execution_count": null,
   "metadata": {
    "id": "ZBgoXLFHJnmB"
   },
   "outputs": [],
   "source": [
    "# Train test split\n",
    "X_train, X_test, y_train, y_test, T_train, T_test = train_test_split(\n",
    "    hillstrom_X,\n",
    "    hillstrom_Y,\n",
    "    hillstrom_T,\n",
    "    test_size=.5\n",
    ")"
   ]
  },
  {
   "cell_type": "code",
   "execution_count": null,
   "metadata": {
    "colab": {
     "base_uri": "https://localhost:8080/"
    },
    "id": "MjfbWP6QJ3se",
    "outputId": "cf0afafd-c365-47ee-daa4-dbe241ccf526"
   },
   "outputs": [],
   "source": [
    "# How many observations in train/test converted?\n",
    "(y_train[T_train > 0] > 0).sum(), (y_test[T_test > 0] > 0).sum()"
   ]
  },
  {
   "cell_type": "code",
   "execution_count": null,
   "metadata": {
    "id": "Am8PFZLHK7Le"
   },
   "outputs": [],
   "source": [
    "# Define the base model\n",
    "base_model = LGBMRegressor(\n",
    "    n_estimators=100,\n",
    "    max_depth=10,\n",
    "    learning_rate=0.1,\n",
    "    )\n",
    "\n",
    "# Instantiate the S-Learner\n",
    "s_learner = SLearner(\n",
    "    overall_model=base_model\n",
    ")"
   ]
  },
  {
   "cell_type": "code",
   "execution_count": null,
   "metadata": {
    "colab": {
     "base_uri": "https://localhost:8080/"
    },
    "id": "mcny2G8LLce0",
    "outputId": "acfcdd23-e5e4-4e51-9b1c-c59e35b7900c"
   },
   "outputs": [],
   "source": [
    "# Fit the model\n",
    "s_learner.fit(\n",
    "    Y=y_train,\n",
    "    T=T_train,\n",
    "    X=X_train\n",
    ")"
   ]
  },
  {
   "cell_type": "code",
   "execution_count": null,
   "metadata": {
    "colab": {
     "base_uri": "https://localhost:8080/"
    },
    "id": "5B2wDi_oL2sp",
    "outputId": "9340a947-18e7-4752-e78e-e2856b6d6b8a"
   },
   "outputs": [],
   "source": [
    "# Predict the effects\n",
    "uplifts = s_learner.effect(\n",
    "    T0=0,\n",
    "    T1=1,\n",
    "    X=X_test.values\n",
    ")\n",
    "\n",
    "uplifts"
   ]
  },
  {
   "cell_type": "markdown",
   "metadata": {
    "id": "rxTKhZERMzIt"
   },
   "source": [
    "## Your Turn: Who Should We Target?\n",
    "\n",
    "Use DML or DRLearner with base learners of your choice, train them on Hillstrom data, generate predictions on the test set and answer the question: does sending mens or womens mail have greater impact on **newbie visitors' spending**?"
   ]
  },
  {
   "cell_type": "code",
   "execution_count": null,
   "metadata": {
    "id": "7isIGtegqJb2"
   },
   "outputs": [],
   "source": []
  }
 ],
 "metadata": {
  "colab": {
   "provenance": []
  },
  "kernelspec": {
   "display_name": "Python 3 (ipykernel)",
   "language": "python",
   "name": "python3"
  },
  "language_info": {
   "codemirror_mode": {
    "name": "ipython",
    "version": 3
   },
   "file_extension": ".py",
   "mimetype": "text/x-python",
   "name": "python",
   "nbconvert_exporter": "python",
   "pygments_lexer": "ipython3",
   "version": "3.9.18"
  }
 },
 "nbformat": 4,
 "nbformat_minor": 1
}
