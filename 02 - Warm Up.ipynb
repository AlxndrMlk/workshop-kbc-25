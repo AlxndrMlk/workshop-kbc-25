{
 "cells": [
  {
   "cell_type": "code",
   "execution_count": 1,
   "metadata": {
    "id": "HgLcLnut5Ljo"
   },
   "outputs": [],
   "source": [
    "import pandas as pd"
   ]
  },
  {
   "cell_type": "markdown",
   "metadata": {
    "id": "cXhrtTQ_5OuR"
   },
   "source": [
    "# Welcome to the Causality & Personalization Workshop!\n",
    "\n",
    "We're excited to have you here!\n",
    "\n",
    "Below you'll find a small warm-up exercise that will help us build a common ground in the first part of the workshop.\n",
    "\n",
    "If you have any questions or need help with technical aspects, please email us at **hello [at] causalpython.io**.\n",
    "\n",
    "## Your Warm-Up Exercise\n",
    "\n",
    "Marc and Nathalie want to understand whether, and how much, of a discount they should offer their customers to maximize profit.\n",
    "\n",
    "They have received two historical datasets containing a number of variables that describe the customers and their behaviors ($X$), as well as the outcome variable quantifying customer spending ($Y$).\n",
    "\n",
    "Using the technique(s) of your choice, can you help Marc and Nathalie quantify the effect of the discount amount ($X_1$) on spending ($Y$)?\n",
    "\n",
    "In particular, can you help them answer the question: **What is the effect of $X_1$ on $Y$?**\n",
    "\n",
    "The code below will load the data for you."
   ]
  },
  {
   "cell_type": "code",
   "execution_count": 2,
   "metadata": {
    "id": "DOqKQNwf5NOw"
   },
   "outputs": [],
   "source": [
    "# Read the data - dataset 1\n",
    "df1 = pd.read_csv('https://raw.githubusercontent.com/AlxndrMlk/workshop-kbc-25/refs/heads/main/data/dataset1.csv')\n",
    "df2 = pd.read_csv('https://raw.githubusercontent.com/AlxndrMlk/workshop-kbc-25/refs/heads/main/data/dataset2.csv')"
   ]
  },
  {
   "cell_type": "code",
   "execution_count": 3,
   "metadata": {
    "colab": {
     "base_uri": "https://localhost:8080/",
     "height": 206
    },
    "id": "MQHDGfMZMSiB",
    "outputId": "d2658705-c15f-4323-e4ce-97cf4d26d1c6"
   },
   "outputs": [
    {
     "data": {
      "text/html": [
       "<div>\n",
       "<style scoped>\n",
       "    .dataframe tbody tr th:only-of-type {\n",
       "        vertical-align: middle;\n",
       "    }\n",
       "\n",
       "    .dataframe tbody tr th {\n",
       "        vertical-align: top;\n",
       "    }\n",
       "\n",
       "    .dataframe thead th {\n",
       "        text-align: right;\n",
       "    }\n",
       "</style>\n",
       "<table border=\"1\" class=\"dataframe\">\n",
       "  <thead>\n",
       "    <tr style=\"text-align: right;\">\n",
       "      <th></th>\n",
       "      <th>x1</th>\n",
       "      <th>x2</th>\n",
       "      <th>x3</th>\n",
       "      <th>x4</th>\n",
       "      <th>x5</th>\n",
       "      <th>y</th>\n",
       "    </tr>\n",
       "  </thead>\n",
       "  <tbody>\n",
       "    <tr>\n",
       "      <th>0</th>\n",
       "      <td>3.943921</td>\n",
       "      <td>1.772409</td>\n",
       "      <td>-116.710972</td>\n",
       "      <td>0.906105</td>\n",
       "      <td>7.897970</td>\n",
       "      <td>6.044647</td>\n",
       "    </tr>\n",
       "    <tr>\n",
       "      <th>1</th>\n",
       "      <td>2.608663</td>\n",
       "      <td>1.208288</td>\n",
       "      <td>-84.433272</td>\n",
       "      <td>1.644846</td>\n",
       "      <td>6.158114</td>\n",
       "      <td>4.373869</td>\n",
       "    </tr>\n",
       "    <tr>\n",
       "      <th>2</th>\n",
       "      <td>6.015692</td>\n",
       "      <td>2.754239</td>\n",
       "      <td>-194.561517</td>\n",
       "      <td>1.714756</td>\n",
       "      <td>5.248536</td>\n",
       "      <td>10.138947</td>\n",
       "    </tr>\n",
       "    <tr>\n",
       "      <th>3</th>\n",
       "      <td>7.580054</td>\n",
       "      <td>3.426146</td>\n",
       "      <td>-219.975157</td>\n",
       "      <td>0.832489</td>\n",
       "      <td>2.563980</td>\n",
       "      <td>11.373965</td>\n",
       "    </tr>\n",
       "    <tr>\n",
       "      <th>4</th>\n",
       "      <td>2.674613</td>\n",
       "      <td>1.004589</td>\n",
       "      <td>-55.893137</td>\n",
       "      <td>0.872053</td>\n",
       "      <td>6.463233</td>\n",
       "      <td>2.815693</td>\n",
       "    </tr>\n",
       "  </tbody>\n",
       "</table>\n",
       "</div>"
      ],
      "text/plain": [
       "         x1        x2          x3        x4        x5          y\n",
       "0  3.943921  1.772409 -116.710972  0.906105  7.897970   6.044647\n",
       "1  2.608663  1.208288  -84.433272  1.644846  6.158114   4.373869\n",
       "2  6.015692  2.754239 -194.561517  1.714756  5.248536  10.138947\n",
       "3  7.580054  3.426146 -219.975157  0.832489  2.563980  11.373965\n",
       "4  2.674613  1.004589  -55.893137  0.872053  6.463233   2.815693"
      ]
     },
     "execution_count": 3,
     "metadata": {},
     "output_type": "execute_result"
    }
   ],
   "source": [
    "df1.head()"
   ]
  },
  {
   "cell_type": "code",
   "execution_count": 4,
   "metadata": {
    "colab": {
     "base_uri": "https://localhost:8080/",
     "height": 206
    },
    "id": "1Qr89MCqMTR0",
    "outputId": "8e73c254-9a9e-495e-d398-4aae4dc44b29"
   },
   "outputs": [
    {
     "data": {
      "text/html": [
       "<div>\n",
       "<style scoped>\n",
       "    .dataframe tbody tr th:only-of-type {\n",
       "        vertical-align: middle;\n",
       "    }\n",
       "\n",
       "    .dataframe tbody tr th {\n",
       "        vertical-align: top;\n",
       "    }\n",
       "\n",
       "    .dataframe thead th {\n",
       "        text-align: right;\n",
       "    }\n",
       "</style>\n",
       "<table border=\"1\" class=\"dataframe\">\n",
       "  <thead>\n",
       "    <tr style=\"text-align: right;\">\n",
       "      <th></th>\n",
       "      <th>x1</th>\n",
       "      <th>x2</th>\n",
       "      <th>x3</th>\n",
       "      <th>x4</th>\n",
       "      <th>x5</th>\n",
       "      <th>y</th>\n",
       "    </tr>\n",
       "  </thead>\n",
       "  <tbody>\n",
       "    <tr>\n",
       "      <th>0</th>\n",
       "      <td>0.559138</td>\n",
       "      <td>0.748775</td>\n",
       "      <td>-83.632316</td>\n",
       "      <td>-0.303856</td>\n",
       "      <td>5.768980</td>\n",
       "      <td>4.610812</td>\n",
       "    </tr>\n",
       "    <tr>\n",
       "      <th>1</th>\n",
       "      <td>0.148562</td>\n",
       "      <td>6.110549</td>\n",
       "      <td>-860.551168</td>\n",
       "      <td>1.432733</td>\n",
       "      <td>2.076002</td>\n",
       "      <td>47.770659</td>\n",
       "    </tr>\n",
       "    <tr>\n",
       "      <th>2</th>\n",
       "      <td>0.016396</td>\n",
       "      <td>3.916971</td>\n",
       "      <td>-556.547168</td>\n",
       "      <td>0.373476</td>\n",
       "      <td>3.160459</td>\n",
       "      <td>30.914869</td>\n",
       "    </tr>\n",
       "    <tr>\n",
       "      <th>3</th>\n",
       "      <td>0.022395</td>\n",
       "      <td>3.475846</td>\n",
       "      <td>-491.014252</td>\n",
       "      <td>-0.288874</td>\n",
       "      <td>4.407236</td>\n",
       "      <td>27.279331</td>\n",
       "    </tr>\n",
       "    <tr>\n",
       "      <th>4</th>\n",
       "      <td>0.076919</td>\n",
       "      <td>3.563278</td>\n",
       "      <td>-522.913910</td>\n",
       "      <td>0.069021</td>\n",
       "      <td>5.142340</td>\n",
       "      <td>29.063909</td>\n",
       "    </tr>\n",
       "  </tbody>\n",
       "</table>\n",
       "</div>"
      ],
      "text/plain": [
       "         x1        x2          x3        x4        x5          y\n",
       "0  0.559138  0.748775  -83.632316 -0.303856  5.768980   4.610812\n",
       "1  0.148562  6.110549 -860.551168  1.432733  2.076002  47.770659\n",
       "2  0.016396  3.916971 -556.547168  0.373476  3.160459  30.914869\n",
       "3  0.022395  3.475846 -491.014252 -0.288874  4.407236  27.279331\n",
       "4  0.076919  3.563278 -522.913910  0.069021  5.142340  29.063909"
      ]
     },
     "execution_count": 4,
     "metadata": {},
     "output_type": "execute_result"
    }
   ],
   "source": [
    "df2.head()"
   ]
  },
  {
   "cell_type": "code",
   "execution_count": null,
   "metadata": {
    "id": "Qe6eH26KMW7b"
   },
   "outputs": [],
   "source": [
    "# YOUR CODE HERE"
   ]
  }
 ],
 "metadata": {
  "colab": {
   "provenance": []
  },
  "kernelspec": {
   "display_name": "Python 3 (ipykernel)",
   "language": "python",
   "name": "python3"
  },
  "language_info": {
   "codemirror_mode": {
    "name": "ipython",
    "version": 3
   },
   "file_extension": ".py",
   "mimetype": "text/x-python",
   "name": "python",
   "nbconvert_exporter": "python",
   "pygments_lexer": "ipython3",
   "version": "3.9.18"
  }
 },
 "nbformat": 4,
 "nbformat_minor": 1
}
