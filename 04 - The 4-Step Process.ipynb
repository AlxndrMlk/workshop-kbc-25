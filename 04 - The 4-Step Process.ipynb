{
 "cells": [
  {
   "cell_type": "code",
   "execution_count": null,
   "metadata": {
    "colab": {
     "base_uri": "https://localhost:8080/"
    },
    "id": "Oxd1AZT2EVgN",
    "outputId": "7e00c055-3089-44bc-a8bd-c8f082d9bb1f"
   },
   "outputs": [],
   "source": [
    "!pip install dowhy==0.12 econml==0.15\n",
    "!pip install networkx==3.3"
   ]
  },
  {
   "cell_type": "markdown",
   "metadata": {
    "id": "TO9Nd3tWWkih"
   },
   "source": [
    "‼️Before running the next cell, press **Ctrl (Cmd) + M + .** and confirm that you want to restsrt the session.\n",
    "\n",
    "Thank you 🙏🏼"
   ]
  },
  {
   "cell_type": "code",
   "execution_count": null,
   "metadata": {
    "colab": {
     "base_uri": "https://localhost:8080/"
    },
    "id": "5WDCFvmLEZ7D",
    "outputId": "fe9c8e18-70e2-41ea-b340-98d6272ce145"
   },
   "outputs": [],
   "source": [
    "import dowhy\n",
    "import econml\n",
    "print(dowhy.__version__, econml.__version__)"
   ]
  },
  {
   "cell_type": "code",
   "execution_count": null,
   "metadata": {
    "id": "HgLcLnut5Ljo"
   },
   "outputs": [],
   "source": [
    "import warnings\n",
    "\n",
    "import numpy as np\n",
    "import pandas as pd\n",
    "import networkx as nx\n",
    "\n",
    "import matplotlib.pyplot as plt\n",
    "\n",
    "from dowhy import CausalModel\n",
    "\n",
    "warnings.simplefilter(\n",
    "    action='ignore',\n",
    "    category=FutureWarning\n",
    ")"
   ]
  },
  {
   "cell_type": "markdown",
   "metadata": {
    "id": "cXhrtTQ_5OuR"
   },
   "source": [
    "# The 4-Step Process of Causal Modeling\n",
    "\n"
   ]
  },
  {
   "cell_type": "code",
   "execution_count": null,
   "metadata": {
    "id": "DOqKQNwf5NOw"
   },
   "outputs": [],
   "source": [
    "# Read the data - dataset 1\n",
    "df1 = pd.read_csv('https://raw.githubusercontent.com/AlxndrMlk/workshop-kbc-25/refs/heads/main/data/dataset1.csv')"
   ]
  },
  {
   "cell_type": "markdown",
   "metadata": {
    "id": "QGcqQnXtI0BI"
   },
   "source": [
    "## Step 1: Modeling the Structure"
   ]
  },
  {
   "cell_type": "markdown",
   "metadata": {
    "id": "p3yzCl1YPodC"
   },
   "source": [
    "### 1.1 Define the Graph"
   ]
  },
  {
   "cell_type": "code",
   "execution_count": null,
   "metadata": {
    "id": "MQHDGfMZMSiB"
   },
   "outputs": [],
   "source": [
    "# Instantiate a grpah object\n",
    "graph = nx.DiGraph()"
   ]
  },
  {
   "cell_type": "code",
   "execution_count": null,
   "metadata": {
    "id": "1Qr89MCqMTR0"
   },
   "outputs": [],
   "source": [
    "# Define edges\n",
    "edges = [\n",
    "    ('x1', 'y'),\n",
    "    ('x2', 'x1'),\n",
    "    ('x2', 'y'),\n",
    "    ('x1', 'x3'),\n",
    "    ('y', 'x3'),\n",
    "]\n",
    "\n",
    "# Encode the edges\n",
    "graph.add_edges_from(edges)\n",
    "\n",
    "# Optional: add unconnected nodes\n",
    "graph.add_nodes_from(['x4', 'x5'])"
   ]
  },
  {
   "cell_type": "code",
   "execution_count": null,
   "metadata": {
    "colab": {
     "base_uri": "https://localhost:8080/",
     "height": 516
    },
    "id": "Qe6eH26KMW7b",
    "outputId": "958af697-d529-4d8f-aa31-2456c145dcff"
   },
   "outputs": [],
   "source": [
    "# Plot the graph\n",
    "nx.draw(graph)"
   ]
  },
  {
   "cell_type": "code",
   "execution_count": null,
   "metadata": {
    "colab": {
     "base_uri": "https://localhost:8080/",
     "height": 337
    },
    "id": "kYdkRms1JjUZ",
    "outputId": "3132e547-ec56-48c7-ca3d-687b29d77538"
   },
   "outputs": [],
   "source": [
    "# Improve the plot\n",
    "plt.figure(figsize=(5, 3))\n",
    "nx.draw_circular(\n",
    "    graph,\n",
    "    with_labels=True,\n",
    "    node_size=400,\n",
    "    font_color='white'\n",
    "    )"
   ]
  },
  {
   "cell_type": "markdown",
   "metadata": {
    "id": "p2a7rh5wPr53"
   },
   "source": [
    "### 1.2 Instantiate the DoWhy Model"
   ]
  },
  {
   "cell_type": "code",
   "execution_count": null,
   "metadata": {
    "id": "zUWHUmw3O1PM"
   },
   "outputs": [],
   "source": [
    "# Instantiate the DoWhy model\n",
    "model = CausalModel(\n",
    "    data=df1,\n",
    "    graph=graph,\n",
    "    treatment='x1',\n",
    "    outcome='y',\n",
    ")"
   ]
  },
  {
   "cell_type": "code",
   "execution_count": null,
   "metadata": {
    "colab": {
     "base_uri": "https://localhost:8080/",
     "height": 422
    },
    "id": "Kq_ff6zJQB2X",
    "outputId": "fba9f45c-c20a-40f3-983d-693ea3e67f79"
   },
   "outputs": [],
   "source": [
    "# View model\n",
    "model.view_model(size=(5, 5))"
   ]
  },
  {
   "cell_type": "markdown",
   "metadata": {
    "id": "nbNNilhWR87m"
   },
   "source": [
    "## Step 2: Identify the Estimand"
   ]
  },
  {
   "cell_type": "code",
   "execution_count": null,
   "metadata": {
    "colab": {
     "base_uri": "https://localhost:8080/"
    },
    "id": "R2Z0awvrRP2r",
    "outputId": "53694979-499d-4f19-bd5f-0795f3c1e13c"
   },
   "outputs": [],
   "source": [
    "estimand = model.identify_effect()\n",
    "print(estimand)"
   ]
  },
  {
   "cell_type": "markdown",
   "metadata": {
    "id": "SJRPzwQqSNrP"
   },
   "source": [
    "## Step 3: Estimate the Causal Effect"
   ]
  },
  {
   "cell_type": "code",
   "execution_count": null,
   "metadata": {
    "colab": {
     "base_uri": "https://localhost:8080/"
    },
    "id": "Ur-BVkEjSErC",
    "outputId": "697b7c88-2b06-4f89-bd4b-5fc7b8f6b942"
   },
   "outputs": [],
   "source": [
    "# Estimate the effect using linear regression\n",
    "estimate = model.estimate_effect(\n",
    "    identified_estimand=estimand,\n",
    "    method_name='backdoor.linear_regression',\n",
    "    target_units='ate')\n",
    "\n",
    "print(f'Estimate of causal effect (linear regression): {estimate.value}')"
   ]
  },
  {
   "cell_type": "markdown",
   "metadata": {
    "id": "3dr3aHcfUQX7"
   },
   "source": [
    "## Step 4: Refute the Estimate"
   ]
  },
  {
   "cell_type": "markdown",
   "metadata": {
    "id": "5LMm1d9SUd7s"
   },
   "source": [
    "### 4.1 Add Random Common Cause"
   ]
  },
  {
   "cell_type": "code",
   "execution_count": null,
   "metadata": {
    "colab": {
     "base_uri": "https://localhost:8080/"
    },
    "id": "OGs4LOiRUPRj",
    "outputId": "22c124a5-f373-42f1-d0b5-ac35712fbe82"
   },
   "outputs": [],
   "source": [
    "refuter_1 = model.refute_estimate(\n",
    "    estimand=estimand,\n",
    "    estimate=estimate,\n",
    "    method_name=\"random_common_cause\"\n",
    ")\n",
    "\n",
    "print(refuter_1)"
   ]
  },
  {
   "cell_type": "markdown",
   "metadata": {
    "id": "iYPE8OoNU-w7"
   },
   "source": [
    "### 4.2 Placebo Treatment"
   ]
  },
  {
   "cell_type": "code",
   "execution_count": null,
   "metadata": {
    "colab": {
     "base_uri": "https://localhost:8080/"
    },
    "id": "j9OAjaOBUsDK",
    "outputId": "8a001379-5685-467c-fc39-32cc23d6b7bb"
   },
   "outputs": [],
   "source": [
    "refuter_2 = model.refute_estimate(\n",
    "    estimand=estimand,\n",
    "    estimate=estimate,\n",
    "    method_name=\"placebo_treatment_refuter\",\n",
    "    placebo_type=\"permute\"\n",
    ")\n",
    "\n",
    "print(refuter_2)"
   ]
  },
  {
   "cell_type": "markdown",
   "metadata": {
    "id": "dtxwb-e9VQMO"
   },
   "source": [
    "### 4.3 Data Subset Refuter"
   ]
  },
  {
   "cell_type": "code",
   "execution_count": null,
   "metadata": {
    "colab": {
     "base_uri": "https://localhost:8080/"
    },
    "id": "VqgURUn6VMtR",
    "outputId": "84046876-ea78-4fea-9037-8f73ec2b53c3"
   },
   "outputs": [],
   "source": [
    "refuter_3 = model.refute_estimate(\n",
    "    estimand=estimand,\n",
    "    estimate=estimate,\n",
    "    method_name=\"data_subset_refuter\",\n",
    "    subset_fraction=0.1\n",
    ")\n",
    "\n",
    "print(refuter_3)"
   ]
  },
  {
   "cell_type": "code",
   "execution_count": null,
   "metadata": {
    "id": "lXJVimcBVjia"
   },
   "outputs": [],
   "source": []
  }
 ],
 "metadata": {
  "colab": {
   "provenance": []
  },
  "kernelspec": {
   "display_name": "Python 3 (ipykernel)",
   "language": "python",
   "name": "python3"
  },
  "language_info": {
   "codemirror_mode": {
    "name": "ipython",
    "version": 3
   },
   "file_extension": ".py",
   "mimetype": "text/x-python",
   "name": "python",
   "nbconvert_exporter": "python",
   "pygments_lexer": "ipython3",
   "version": "3.9.18"
  }
 },
 "nbformat": 4,
 "nbformat_minor": 1
}
