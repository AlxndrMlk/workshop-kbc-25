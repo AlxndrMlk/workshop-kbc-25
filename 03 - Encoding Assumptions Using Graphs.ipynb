{
 "cells": [
  {
   "cell_type": "code",
   "execution_count": null,
   "metadata": {
    "id": "espOBb8RRmGJ"
   },
   "outputs": [],
   "source": [
    "import networkx as nx\n",
    "import matplotlib.pyplot as plt"
   ]
  },
  {
   "cell_type": "code",
   "execution_count": null,
   "metadata": {
    "id": "vgHSi_aTT1ZI"
   },
   "outputs": [],
   "source": [
    "def draw_graph(graph):\n",
    "    plt.figure(figsize=(5, 3))\n",
    "    nx.draw_spectral(\n",
    "        graph,\n",
    "        with_labels=True,\n",
    "        node_size=400,\n",
    "        font_color='white'\n",
    "        )"
   ]
  },
  {
   "cell_type": "markdown",
   "metadata": {
    "id": "BU6LkWTNRtuQ"
   },
   "source": [
    "# Encoding Assumptions Using Graphs\n",
    "\n",
    "As a warm-up, we'll model the three structures we discussed:\n",
    "\n",
    "- Chains 🔗\n",
    "- Forks 🍴\n",
    "- Colliders 💥\n",
    "\n",
    "as graphs in Python.\n",
    "\n",
    "We'll use the `networkx` library for this task.\n",
    "\n",
    "Some other libraries you might find useful in the future are:\n",
    "- `pygraphviz`\n",
    "- `pydot`"
   ]
  },
  {
   "cell_type": "markdown",
   "metadata": {
    "id": "hH8Vt4m3TxBF"
   },
   "source": [
    "## Chain 🔗"
   ]
  },
  {
   "cell_type": "code",
   "execution_count": null,
   "metadata": {
    "id": "yBFH_vtUSbmX"
   },
   "outputs": [],
   "source": [
    "# Chain: A -> B -> C\n",
    "graph = nx.DiGraph()\n",
    "\n",
    "# Define edges\n",
    "graph.add_edges_from(\n",
    "    [\n",
    "        ('A', 'B'),\n",
    "        ('B', 'C')\n",
    "    ]\n",
    ")"
   ]
  },
  {
   "cell_type": "code",
   "execution_count": null,
   "metadata": {
    "colab": {
     "base_uri": "https://localhost:8080/",
     "height": 337
    },
    "id": "nVGBaX_QTvvh",
    "outputId": "9bc3945d-2fef-4be2-d755-75c955304804"
   },
   "outputs": [],
   "source": [
    "# Visualize\n",
    "draw_graph(graph)"
   ]
  },
  {
   "cell_type": "markdown",
   "metadata": {
    "id": "jsxIm04XT96C"
   },
   "source": [
    "## Fork 🍴"
   ]
  },
  {
   "cell_type": "code",
   "execution_count": null,
   "metadata": {
    "id": "RZm6k7r4UCnA"
   },
   "outputs": [],
   "source": [
    "# Chain: A <- B -> C\n",
    "graph = nx.DiGraph()\n",
    "\n",
    "# Define edges\n",
    "graph.add_edges_from(\n",
    "    [\n",
    "        ('B', 'A'),\n",
    "        ('B', 'C')\n",
    "    ]\n",
    ")"
   ]
  },
  {
   "cell_type": "code",
   "execution_count": null,
   "metadata": {
    "colab": {
     "base_uri": "https://localhost:8080/",
     "height": 337
    },
    "id": "8Yc5ZV3pUI2e",
    "outputId": "cd7a5ef6-4f3c-4159-aafd-1c1b85e9e825"
   },
   "outputs": [],
   "source": [
    "# Visualize\n",
    "draw_graph(graph)"
   ]
  },
  {
   "cell_type": "markdown",
   "metadata": {
    "id": "IWAQL0RxUMGd"
   },
   "source": [
    "## Collider 💥"
   ]
  },
  {
   "cell_type": "code",
   "execution_count": null,
   "metadata": {
    "id": "qEkjFMSLUPMq"
   },
   "outputs": [],
   "source": [
    "# Collider: A -> B <- C\n",
    "graph = nx.DiGraph()\n",
    "\n",
    "# Define edges\n",
    "graph.add_edges_from(\n",
    "    [\n",
    "        # YOUR CODE HERE\n",
    "    ]\n",
    ")"
   ]
  },
  {
   "cell_type": "code",
   "execution_count": null,
   "metadata": {
    "colab": {
     "base_uri": "https://localhost:8080/",
     "height": 337
    },
    "id": "VhVIgfWFUX0F",
    "outputId": "fbfa6404-268c-4b47-d5fb-a0c1bedc5492"
   },
   "outputs": [],
   "source": [
    "# Visualize\n",
    "draw_graph(graph)"
   ]
  },
  {
   "cell_type": "markdown",
   "metadata": {
    "id": "I8ZGXjJqUgZt"
   },
   "source": [
    "## Programmers' Earnings\n",
    "\n",
    "Let's assume that programmer's earnings depend on three factors:\n",
    "\n",
    "- Their Python profficiency\n",
    "- Whether they took a special course\n",
    "- Age\n",
    "\n",
    "Additionally, their **age** impacts the probability of taking the **course**.\n",
    "\n",
    "**Your task**: Encode this system as a directed acyclic graph using `nx.DiGraph` and visualize it."
   ]
  },
  {
   "cell_type": "code",
   "execution_count": null,
   "metadata": {
    "id": "v6OMPKTfSXHz"
   },
   "outputs": [],
   "source": [
    "# Construct the graph\n",
    "...\n",
    "\n",
    "# Define the edges\n",
    "...\n",
    "\n",
    "# Add edges to the graph\n",
    "..."
   ]
  },
  {
   "cell_type": "code",
   "execution_count": null,
   "metadata": {
    "id": "EmERL8JPVZ0R"
   },
   "outputs": [],
   "source": [
    "# Visualize\n",
    "..."
   ]
  },
  {
   "cell_type": "code",
   "execution_count": null,
   "metadata": {
    "id": "jW9L7ZfMVbzA"
   },
   "outputs": [],
   "source": []
  }
 ],
 "metadata": {
  "colab": {
   "provenance": []
  },
  "kernelspec": {
   "display_name": "Python 3 (ipykernel)",
   "language": "python",
   "name": "python3"
  },
  "language_info": {
   "codemirror_mode": {
    "name": "ipython",
    "version": 3
   },
   "file_extension": ".py",
   "mimetype": "text/x-python",
   "name": "python",
   "nbconvert_exporter": "python",
   "pygments_lexer": "ipython3",
   "version": "3.9.18"
  }
 },
 "nbformat": 4,
 "nbformat_minor": 1
}
