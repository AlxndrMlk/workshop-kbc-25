{
 "cells": [
  {
   "cell_type": "code",
   "execution_count": null,
   "metadata": {
    "colab": {
     "base_uri": "https://localhost:8080/"
    },
    "id": "6xQRX4DKR5gp",
    "outputId": "3a0d5497-85b1-4f81-8a5d-2a90bf16ebad"
   },
   "outputs": [],
   "source": [
    "!pip install dowhy==0.12 econml==0.15 networkx==3.3 \"numpy<2.0\" ananke-causal"
   ]
  },
  {
   "cell_type": "code",
   "execution_count": null,
   "metadata": {
    "id": "llAb27t-Ss6I"
   },
   "outputs": [],
   "source": [
    "from ananke.graphs import ADMG\n",
    "from ananke.identification import OneLineID\n",
    "from ananke.estimation import CausalEffect\n",
    "from ananke.datasets import load_afixable_data\n",
    "from ananke.estimation import AutomatedIF\n",
    "import numpy as np\n",
    "\n",
    "import re\n",
    "import dowhy\n",
    "from dowhy import CausalModel\n",
    "import dowhy.datasets\n",
    "from dowhy.utils.regression import create_polynomial_function\n",
    "from sklearn.ensemble import GradientBoostingRegressor"
   ]
  },
  {
   "cell_type": "markdown",
   "metadata": {
    "id": "pjc9Bf-BVNK_"
   },
   "source": [
    "# Sensitivity Analysis and Advanced Identification"
   ]
  },
  {
   "cell_type": "markdown",
   "metadata": {
    "id": "nLJa1mA1Vvz3"
   },
   "source": [
    "## Sensitivity Analysis with DoWhy"
   ]
  },
  {
   "cell_type": "code",
   "execution_count": null,
   "metadata": {
    "id": "Ay8rRlqcVzrV"
   },
   "outputs": [],
   "source": [
    "# Generate the data\n",
    "data = dowhy.datasets.partially_linear_dataset(\n",
    "    beta=10,\n",
    "    num_common_causes=7,\n",
    "    num_unobserved_common_causes=1,\n",
    "    strength_unobserved_confounding=10,\n",
    "    num_samples=1000,\n",
    "    num_treatments=1,\n",
    "    stddev_treatment_noise=10,\n",
    "    stddev_outcome_noise=5\n",
    ")"
   ]
  },
  {
   "cell_type": "code",
   "execution_count": null,
   "metadata": {
    "colab": {
     "base_uri": "https://localhost:8080/",
     "height": 37
    },
    "id": "EClx6bKUXO0N",
    "outputId": "89dabc09-6b91-436c-8baf-d560b9d1c622"
   },
   "outputs": [],
   "source": [
    "# True effect\n",
    "data[\"ate\"]"
   ]
  },
  {
   "cell_type": "code",
   "execution_count": null,
   "metadata": {
    "id": "8UzxAALMXRcy"
   },
   "outputs": [],
   "source": [
    "# Drop W0 -> unobserved confounder\n",
    "dropped_cols = [\"W0\"]\n",
    "user_data = data[\"df\"].drop(dropped_cols, axis = 1)\n",
    "\n",
    "user_graph = data[\"gml_graph\"]\n",
    "for col in dropped_cols:\n",
    "    user_graph = user_graph.replace('node[ id \"{0}\" label \"{0}\"]'.format(col), '')\n",
    "    user_graph = re.sub('edge\\[ source \"{}\" target \"[vy][0]*\"\\]'.format(col), \"\", user_graph)"
   ]
  },
  {
   "cell_type": "code",
   "execution_count": null,
   "metadata": {
    "colab": {
     "base_uri": "https://localhost:8080/",
     "height": 499
    },
    "id": "Q2-VnxonXjtr",
    "outputId": "0fabaaf1-2659-44cb-b08d-1cdb646d94d9"
   },
   "outputs": [],
   "source": [
    "# Define the causal model\n",
    "model = CausalModel(\n",
    "    data=user_data,\n",
    "    treatment=data[\"treatment_name\"],\n",
    "    outcome=data[\"outcome_name\"],\n",
    "    graph=user_graph,\n",
    "    test_significance=None,\n",
    ")\n",
    "\n",
    "model.view_model()"
   ]
  },
  {
   "cell_type": "code",
   "execution_count": null,
   "metadata": {
    "colab": {
     "base_uri": "https://localhost:8080/"
    },
    "id": "VIjm6V5VXqQJ",
    "outputId": "2250b193-4347-4f29-cf85-630ce26a20f2"
   },
   "outputs": [],
   "source": [
    "# Get the estimand\n",
    "estimand = model.identify_effect(proceed_when_unidentifiable=True)\n",
    "print(estimand)"
   ]
  },
  {
   "cell_type": "code",
   "execution_count": null,
   "metadata": {
    "colab": {
     "base_uri": "https://localhost:8080/"
    },
    "id": "WDtSg80hX5t_",
    "outputId": "f489e8c3-c0a3-41ab-cdc1-745a8ecb6e3f"
   },
   "outputs": [],
   "source": [
    "# Estimate the effect\n",
    "linear_dml_estimate = model.estimate_effect(\n",
    "    estimand,\n",
    "    method_name=\"backdoor.econml.dml.dml.LinearDML\",\n",
    "    method_params={\n",
    "        'init_params': {'model_y':GradientBoostingRegressor(),\n",
    "                        'model_t': GradientBoostingRegressor(),\n",
    "                        'linear_first_stages': False\n",
    "                        },\n",
    "        'fit_params': {'cache_values': True,}\n",
    "        })"
   ]
  },
  {
   "cell_type": "code",
   "execution_count": null,
   "metadata": {
    "colab": {
     "base_uri": "https://localhost:8080/",
     "height": 887
    },
    "id": "c1GfdjC9YNiR",
    "outputId": "77f03aa0-b5c5-4cf1-b7e4-e2f1cf8a0f67"
   },
   "outputs": [],
   "source": [
    "# Sensitivity refuter\n",
    "refutation_sensitivity = model.refute_estimate(\n",
    "    estimand, linear_dml_estimate,\n",
    "    method_name = \"add_unobserved_common_cause\",\n",
    "    simulation_method = \"non-parametric-partial-R2\",\n",
    "    partial_r2_confounder_treatment = np.arange(0, 0.8, 0.1),\n",
    "    partial_r2_confounder_outcome = np.arange(0, 0.8, 0.1)\n",
    "    )\n",
    "print(refutation_sensitivity)"
   ]
  },
  {
   "cell_type": "code",
   "execution_count": null,
   "metadata": {
    "colab": {
     "base_uri": "https://localhost:8080/",
     "height": 641
    },
    "id": "SYxqXnVeYiz-",
    "outputId": "dfad76a2-7a81-401b-9c4b-a3321ac39023"
   },
   "outputs": [],
   "source": [
    "refute_bm = model.refute_estimate(\n",
    "    estimand, linear_dml_estimate,\n",
    "    method_name = \"add_unobserved_common_cause\",\n",
    "    simulation_method = \"non-parametric-partial-R2\",\n",
    "    benchmark_common_causes = [\"W1\"],\n",
    "    effect_fraction_on_treatment = 0.2,\n",
    "    effect_fraction_on_outcome = 0.2\n",
    "    )"
   ]
  },
  {
   "cell_type": "markdown",
   "metadata": {
    "id": "Cd7l1HNyVr4z"
   },
   "source": [
    "## Advanced Identification with Ananke"
   ]
  },
  {
   "cell_type": "code",
   "execution_count": null,
   "metadata": {
    "id": "K00mUb_iVHyL"
   },
   "outputs": [],
   "source": [
    "# Read the data\n",
    "data = load_afixable_data()"
   ]
  },
  {
   "cell_type": "code",
   "execution_count": null,
   "metadata": {
    "colab": {
     "base_uri": "https://localhost:8080/",
     "height": 258
    },
    "id": "gpu3cTvqUNEf",
    "outputId": "a71f954e-b4d3-4d0a-c96a-0c6b2cc460b8"
   },
   "outputs": [],
   "source": [
    "nodes = ['Income', 'Insurance', 'ViralLoad', 'Education', 'T', 'Toxicity', 'CD4']\n",
    "\n",
    "di_edges = [('ViralLoad', 'Income'), ('ViralLoad', 'T'), ('ViralLoad', 'Toxicity'),\n",
    "            ('Education', 'Income'), ('Education', 'T'), ('Education', 'Toxicity'),\n",
    "            ('Income', 'Insurance'), ('Insurance', 'T'), ('T', 'Toxicity'), ('Toxicity', 'CD4'), ('T', 'CD4')]\n",
    "\n",
    "bi_edges = [('Income', 'T'), ('Insurance', 'ViralLoad'), ('Education', 'CD4')]\n",
    "\n",
    "G = ADMG(nodes, di_edges, bi_edges)\n",
    "\n",
    "G.draw(direction=\"LR\")"
   ]
  },
  {
   "cell_type": "code",
   "execution_count": null,
   "metadata": {
    "colab": {
     "base_uri": "https://localhost:8080/"
    },
    "id": "qyAD-NCKUUwV",
    "outputId": "bc2bbb66-9c00-4108-f991-e183e5214003"
   },
   "outputs": [],
   "source": [
    "# Check if the effect is identifiable\n",
    "effect_id = OneLineID(graph=G, treatments=['T'], outcomes=['CD4'])\n",
    "effect_id.id()"
   ]
  },
  {
   "cell_type": "code",
   "execution_count": null,
   "metadata": {
    "colab": {
     "base_uri": "https://localhost:8080/"
    },
    "id": "e3LkpH_YUjB-",
    "outputId": "be8d0c95-7efa-45ff-d3ef-accbd864622a"
   },
   "outputs": [],
   "source": [
    "# Instantiate the causal effect object\n",
    "model = CausalEffect(\n",
    "    graph=G,\n",
    "    treatment='T',\n",
    "    outcome='CD4'\n",
    "    )"
   ]
  },
  {
   "cell_type": "code",
   "execution_count": null,
   "metadata": {
    "colab": {
     "base_uri": "https://localhost:8080/"
    },
    "id": "JHAJygPdU4ng",
    "outputId": "9e77ea55-b6c1-470a-9625-7f491face799"
   },
   "outputs": [],
   "source": [
    "# Compute effects using different estimators\n",
    "ate_ipw = ace_obj.compute_effect(data, \"ipw\")\n",
    "ate_gformula = ace_obj.compute_effect(data, \"gformula\")\n",
    "ate_aipw = ace_obj.compute_effect(data, \"aipw\")\n",
    "ate_eff = ace_obj.compute_effect(data, \"eff-aipw\")\n",
    "\n",
    "print(\"ATE using IPW = \", ate_ipw)\n",
    "print(\"ATE using g-formula = \", ate_gformula)\n",
    "print(\"ATE using AIPW = \", ate_aipw)\n",
    "print(\"ATE using efficient AIPW = \", ate_eff)"
   ]
  },
  {
   "cell_type": "code",
   "execution_count": null,
   "metadata": {
    "id": "fUKMlsKmVj1E"
   },
   "outputs": [],
   "source": []
  }
 ],
 "metadata": {
  "colab": {
   "provenance": []
  },
  "kernelspec": {
   "display_name": "Python 3 (ipykernel)",
   "language": "python",
   "name": "python3"
  },
  "language_info": {
   "codemirror_mode": {
    "name": "ipython",
    "version": 3
   },
   "file_extension": ".py",
   "mimetype": "text/x-python",
   "name": "python",
   "nbconvert_exporter": "python",
   "pygments_lexer": "ipython3",
   "version": "3.9.18"
  }
 },
 "nbformat": 4,
 "nbformat_minor": 1
}
